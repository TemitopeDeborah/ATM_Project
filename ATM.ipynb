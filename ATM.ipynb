{
 "cells": [
  {
   "cell_type": "code",
   "execution_count": 1,
   "id": "550fcc26-80ee-4296-9931-a1408986672c",
   "metadata": {},
   "outputs": [],
   "source": [
    "def mainmenu():\n",
    "    print(\"Welcome to Nothern Frock\\n1 - Display balance\\n2 - Withdraw balance\\n3 - Deposit funds\\n4 - Return card\")\n",
    "def submenu():\n",
    "    print(\"1 - $10\\n2 - $20\\n3 - $40\\n4 - $60\\n5 -$80\\n6 - $100\\n7 - Other amount\\n8 - Main menu\")        "
   ]
  },
  {
   "cell_type": "code",
   "execution_count": 2,
   "id": "254c48d0-e552-487e-8270-a89cb1460757",
   "metadata": {},
   "outputs": [],
   "source": [
    "YourBalance = 1000       \n",
    "Wbalance1 = (YourBalance - 10)\n",
    "Wbalance2 = (YourBalance - 20)\n",
    "Wbalance3 = (YourBalance - 40)\n",
    "Wbalance4 = (YourBalance - 60)\n",
    "Wbalance5 = (YourBalance - 80)\n",
    "Wbalance6 = (YourBalance - 100)"
   ]
  },
  {
   "cell_type": "code",
   "execution_count": 3,
   "id": "a3ec9b55-677b-4529-8986-459000573146",
   "metadata": {},
   "outputs": [],
   "source": [
    "def accountBal():\n",
    "    print (f\"Your account balance is:{YourBalance}\")"
   ]
  },
  {
   "cell_type": "code",
   "execution_count": 4,
   "id": "3496b35a-0c32-48fb-9ed0-d5a87c7c5c10",
   "metadata": {},
   "outputs": [],
   "source": [
    "def Withdrawal():\n",
    "    submenu()\n",
    "    s = int(input('Enter an option:'))\n",
    "    if (s == 1):\n",
    "        if (YourBalance >= 10):\n",
    "            print ('Please take your cash')\n",
    "            print ({f'Your account balance is:{Wbalance1}'})\n",
    "            mainmenu()\n",
    "            m = int(input('Please choose transaction'))  \n",
    "        else:\n",
    "            print ('Insufficient Balance')\n",
    "    if (s == 2):\n",
    "        if (YourBalance >= 20):\n",
    "            print ('Please take your cash')\n",
    "            print ({f'Your account balance is:{Wbalance2}'})\n",
    "            mainmenu()\n",
    "            m = int(input('Please choose transaction'))\n",
    "        else:\n",
    "            print ('Insufficient Balance')\n",
    "    if (s == 3):\n",
    "        if (YourBalance >= 40):\n",
    "            print ('Please take your cash')\n",
    "            print ({f'Your account balance is:{Wbalance3}'})\n",
    "            mainmenu()\n",
    "        else:\n",
    "            print ('insufficient Balance')\n",
    "    if (s == 4):\n",
    "        if (YourBalance >= 60):\n",
    "            print ('Please take your cash')\n",
    "            print ({f'Your account balance is:{Wbalance4}'})\n",
    "            mainmenu()\n",
    "        else:\n",
    "            print ('Insufficient Balance')\n",
    "    if (s == 5):\n",
    "        if (YourBalance >= 80):\n",
    "            print ('Please take your cash')\n",
    "            print ({f'Your account balance is:{Wbalance5}'})\n",
    "            mainmenu()\n",
    "        else:\n",
    "            print ('Insufficient Balance')\n",
    "    if (s == 6):\n",
    "        if (YourBalance >= 100):\n",
    "            print ('Please take your cash')\n",
    "            print ({f'Your account balance is:{Wbalance6}'})\n",
    "            mainmenu()\n",
    "        else:\n",
    "            print('Insufficient Balance')\n",
    "    if (s == 7):\n",
    "        p = int(input('Enter the amount you want to withdraw in multiples of 10:'))\n",
    "        Wbalance7 = (YourBalance - p)\n",
    "        if (p % 10 == 0):\n",
    "            print ('Please take your cash')\n",
    "            print ({f'Your account balance is:{Wbalance7}'})\n",
    "        else:\n",
    "            print ('Insufficient Balance')\n",
    "    if (s == 8):\n",
    "        mainmenu()\n",
    "    else:\n",
    "        print('Error: Choose correct transaction')"
   ]
  },
  {
   "cell_type": "code",
   "execution_count": 5,
   "id": "84f07492-2426-443f-906e-540058697adc",
   "metadata": {},
   "outputs": [],
   "source": [
    "def Deposit(): \n",
    "    d = int(input('Enter the amount you want to deposit:'))\n",
    "    Dbalance = (YourBalance + d)\n",
    "    print ('Insert your cash in the cash slot')\n",
    "    print ('Your deposit is successful')\n",
    "    print ({f'Your account balance is:{Dbalance}'})   \n",
    "    "
   ]
  },
  {
   "cell_type": "code",
   "execution_count": 6,
   "id": "7d843d44-3a7d-4c38-9592-37ed9ef498cf",
   "metadata": {},
   "outputs": [],
   "source": [
    "def Returncard():\n",
    "    print ('Remove your ATM card')\n",
    "    print ('Thak you for banking with us')"
   ]
  },
  {
   "cell_type": "code",
   "execution_count": 11,
   "id": "fe339020-2a98-4f6f-8c28-1b88b041774c",
   "metadata": {},
   "outputs": [],
   "source": [
    "def transaction():\n",
    "    mainmenu()\n",
    "    while True:\n",
    "        try:\n",
    "            option = int(input('Enter an option:'))\n",
    "        except:\n",
    "            print ('Error: Enter the correct transaction')\n",
    "        else:\n",
    "            if option == 1:\n",
    "                accountBal()\n",
    "            elif option == 2:\n",
    "                Withdrawal()\n",
    "            elif option == 3:\n",
    "                Deposit()\n",
    "            elif option == 4:\n",
    "                Returncard()\n",
    "                break"
   ]
  },
  {
   "cell_type": "code",
   "execution_count": 10,
   "id": "5f93afd3-e51c-41ca-bae2-112a6a43ab66",
   "metadata": {},
   "outputs": [
    {
     "name": "stdout",
     "output_type": "stream",
     "text": [
      "Welcome to Nothern Frock\n",
      "1 - Display balance\n",
      "2 - Withdraw balance\n",
      "3 - Deposit funds\n",
      "4 - Return card\n"
     ]
    },
    {
     "name": "stdin",
     "output_type": "stream",
     "text": [
      "Enter an option: 7\n",
      "Enter an option: 9\n",
      "Enter an option: 5\n",
      "Enter an option: 3\n",
      "Enter the amount you want to deposit: 600\n"
     ]
    },
    {
     "name": "stdout",
     "output_type": "stream",
     "text": [
      "Insert your cash in the cash slot\n",
      "Your deposit is successful\n",
      "{'Your account balance is:1600'}\n"
     ]
    },
    {
     "name": "stdin",
     "output_type": "stream",
     "text": [
      "Enter an option: 4\n"
     ]
    },
    {
     "name": "stdout",
     "output_type": "stream",
     "text": [
      "Remove your ATM card\n",
      "Thak you for banking with us\n"
     ]
    }
   ],
   "source": [
    "transaction()"
   ]
  },
  {
   "cell_type": "code",
   "execution_count": null,
   "id": "27116d62-1d46-4b44-9fdf-ea0746b81fef",
   "metadata": {},
   "outputs": [],
   "source": []
  }
 ],
 "metadata": {
  "kernelspec": {
   "display_name": "Python 3 (ipykernel)",
   "language": "python",
   "name": "python3"
  },
  "language_info": {
   "codemirror_mode": {
    "name": "ipython",
    "version": 3
   },
   "file_extension": ".py",
   "mimetype": "text/x-python",
   "name": "python",
   "nbconvert_exporter": "python",
   "pygments_lexer": "ipython3",
   "version": "3.9.12"
  }
 },
 "nbformat": 4,
 "nbformat_minor": 5
}
